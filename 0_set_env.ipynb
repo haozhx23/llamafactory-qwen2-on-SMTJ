{
 "cells": [
  {
   "cell_type": "markdown",
   "metadata": {},
   "source": [
    "## Download s5cmd for high-performance s3 transfer"
   ]
  },
  {
   "cell_type": "code",
   "execution_count": null,
   "metadata": {},
   "outputs": [],
   "source": [
    "!curl -L https://github.com/peak/s5cmd/releases/download/v2.2.2/s5cmd_2.2.2_Linux-64bit.tar.gz | tar -xz s5cmd"
   ]
  },
  {
   "cell_type": "code",
   "execution_count": null,
   "metadata": {},
   "outputs": [],
   "source": [
    "local_storage_dir='/home/ec2-user/SageMaker/tmp'"
   ]
  },
  {
   "cell_type": "markdown",
   "metadata": {},
   "source": [
    "## Download model from huggingface"
   ]
  },
  {
   "cell_type": "code",
   "execution_count": null,
   "metadata": {
    "tags": []
   },
   "outputs": [],
   "source": [
    "!pip install huggingface-hub -i https://pypi.tuna.tsinghua.edu.cn/simple"
   ]
  },
  {
   "cell_type": "code",
   "execution_count": null,
   "metadata": {
    "tags": []
   },
   "outputs": [],
   "source": [
    "!huggingface-cli download Qwen/Qwen2-0.5B-Instruct --local-dir $local_storage_dir/Qwen2-0.5B-Instruct --local-dir-use-symlinks False --cache-dir $local_storage_dir/tmp-cache/"
   ]
  },
  {
   "cell_type": "code",
   "execution_count": null,
   "metadata": {},
   "outputs": [],
   "source": []
  },
  {
   "cell_type": "markdown",
   "metadata": {},
   "source": [
    "## Download model from ModelScope"
   ]
  },
  {
   "cell_type": "code",
   "execution_count": null,
   "metadata": {
    "tags": []
   },
   "outputs": [],
   "source": [
    "!pip install modelscope -i https://pypi.tuna.tsinghua.edu.cn/simple"
   ]
  },
  {
   "cell_type": "code",
   "execution_count": null,
   "metadata": {
    "tags": []
   },
   "outputs": [],
   "source": [
    "!modelscope download --model qwen/Qwen2-0.5B-Instruct --local_dir $local_storage_dir/Qwen2-0.5B-Instruct\n",
    "# !modelscope download --model qwen/qwen2-1.5b-instruct --local_dir qwen2-1.5b-instruct"
   ]
  },
  {
   "cell_type": "code",
   "execution_count": null,
   "metadata": {},
   "outputs": [],
   "source": []
  },
  {
   "cell_type": "markdown",
   "metadata": {
    "tags": []
   },
   "source": [
    "## Upload model to s3"
   ]
  },
  {
   "cell_type": "code",
   "execution_count": null,
   "metadata": {
    "tags": []
   },
   "outputs": [],
   "source": [
    "import sagemaker\n",
    "sess = sagemaker.Session()\n",
    "sagemaker_default_bucket = sess.default_bucket()"
   ]
  },
  {
   "cell_type": "code",
   "execution_count": null,
   "metadata": {},
   "outputs": [],
   "source": [
    "!chmod +x s5cmd"
   ]
  },
  {
   "cell_type": "code",
   "execution_count": null,
   "metadata": {
    "tags": []
   },
   "outputs": [],
   "source": [
    "# upload model\n",
    "!./s5cmd cp $local_storage_dir/Qwen2-0.5B-Instruct/ s3://$sagemaker_default_bucket/Qwen2-0.5B-Instruct/\n",
    "# !./s5cmd cp $local_storage_dir/Qwen2-1.5B-Instruct/ s3://$sagemaker_default_bucket/Qwen2-1.5B-Instruct/"
   ]
  },
  {
   "cell_type": "code",
   "execution_count": null,
   "metadata": {
    "tags": []
   },
   "outputs": [],
   "source": [
    "# upload sample data\n",
    "!aws s3 cp alpaca_zh_demo.json s3://$sagemaker_default_bucket/qwen2-train-dataset/\n",
    "!aws s3 cp alpaca_zh_demo.json s3://$sagemaker_default_bucket/qwen2-val-dataset/"
   ]
  },
  {
   "cell_type": "code",
   "execution_count": 18,
   "metadata": {},
   "outputs": [
    {
     "name": "stdout",
     "output_type": "stream",
     "text": [
      "s3://sagemaker-us-east-1-633205212955/Qwen2-0.5B-Instruct/\n"
     ]
    }
   ],
   "source": [
    "!echo s3://$sagemaker_default_bucket/Qwen2-0.5B-Instruct/"
   ]
  },
  {
   "cell_type": "code",
   "execution_count": 17,
   "metadata": {},
   "outputs": [
    {
     "name": "stdout",
     "output_type": "stream",
     "text": [
      "                           PRE .huggingface/\n",
      "2024-08-22 07:54:59       1519 .gitattributes\n",
      "2024-08-22 07:54:59      11344 LICENSE\n",
      "2024-08-22 07:54:59       3565 README.md\n",
      "2024-08-22 07:54:59        659 config.json\n",
      "2024-08-22 07:54:59        242 generation_config.json\n",
      "2024-08-22 07:54:59    1671839 merges.txt\n",
      "2024-08-22 07:54:59  988097824 model.safetensors\n",
      "2024-08-22 07:54:59    7028015 tokenizer.json\n",
      "2024-08-22 07:54:59       1287 tokenizer_config.json\n",
      "2024-08-22 07:54:59    2776833 vocab.json\n"
     ]
    }
   ],
   "source": [
    "!aws s3 ls s3://$sagemaker_default_bucket/Qwen2-0.5B-Instruct/"
   ]
  },
  {
   "cell_type": "code",
   "execution_count": null,
   "metadata": {},
   "outputs": [],
   "source": []
  },
  {
   "cell_type": "code",
   "execution_count": null,
   "metadata": {},
   "outputs": [],
   "source": []
  }
 ],
 "metadata": {
  "kernelspec": {
   "display_name": "conda_python3",
   "language": "python",
   "name": "conda_python3"
  },
  "language_info": {
   "codemirror_mode": {
    "name": "ipython",
    "version": 3
   },
   "file_extension": ".py",
   "mimetype": "text/x-python",
   "name": "python",
   "nbconvert_exporter": "python",
   "pygments_lexer": "ipython3",
   "version": "3.10.14"
  }
 },
 "nbformat": 4,
 "nbformat_minor": 4
}
