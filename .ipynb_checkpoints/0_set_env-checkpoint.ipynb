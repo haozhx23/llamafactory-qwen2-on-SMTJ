{
 "cells": [
  {
   "cell_type": "markdown",
   "metadata": {},
   "source": [
    "## Download s5cmd for high-performance s3 transfer"
   ]
  },
  {
   "cell_type": "code",
   "execution_count": 1,
   "metadata": {
    "tags": []
   },
   "outputs": [
    {
     "name": "stdout",
     "output_type": "stream",
     "text": [
      "  % Total    % Received % Xferd  Average Speed   Time    Time     Time  Current\n",
      "                                 Dload  Upload   Total   Spent    Left  Speed\n",
      "  0     0    0     0    0     0      0      0 --:--:-- --:--:-- --:--:--     0\n",
      "100 4708k  100 4708k    0     0  24.6M      0 --:--:-- --:--:-- --:--:-- 24.6M\n"
     ]
    }
   ],
   "source": [
    "!curl -L https://github.com/peak/s5cmd/releases/download/v2.2.2/s5cmd_2.2.2_Linux-64bit.tar.gz | tar -xz s5cmd"
   ]
  },
  {
   "cell_type": "code",
   "execution_count": 2,
   "metadata": {
    "tags": []
   },
   "outputs": [],
   "source": [
    "local_storage_dir='/home/ec2-user/SageMaker/tmp'"
   ]
  },
  {
   "cell_type": "markdown",
   "metadata": {},
   "source": [
    "## Download model from huggingface"
   ]
  },
  {
   "cell_type": "code",
   "execution_count": 3,
   "metadata": {
    "tags": []
   },
   "outputs": [
    {
     "name": "stdout",
     "output_type": "stream",
     "text": [
      "Looking in indexes: https://pypi.tuna.tsinghua.edu.cn/simple\n",
      "Collecting huggingface-hub\n",
      "  Downloading https://pypi.tuna.tsinghua.edu.cn/packages/60/bf/cea0b9720c32fa01b0c4ec4b16b9f4ae34ca106b202ebbae9f03ab98cd8f/huggingface_hub-0.26.2-py3-none-any.whl (447 kB)\n",
      "\u001b[2K     \u001b[90m━━━━━━━━━━━━━━━━━━━━━━━━━━━━━━━━━━━━━\u001b[0m \u001b[32m447.5/447.5 kB\u001b[0m \u001b[31m468.8 kB/s\u001b[0m eta \u001b[36m0:00:00\u001b[0m00:01\u001b[0m00:01\u001b[0m\n",
      "\u001b[?25hRequirement already satisfied: filelock in /home/ec2-user/anaconda3/envs/python3/lib/python3.10/site-packages (from huggingface-hub) (3.15.4)\n",
      "Requirement already satisfied: fsspec>=2023.5.0 in /home/ec2-user/anaconda3/envs/python3/lib/python3.10/site-packages (from huggingface-hub) (2024.6.1)\n",
      "Requirement already satisfied: packaging>=20.9 in /home/ec2-user/anaconda3/envs/python3/lib/python3.10/site-packages (from huggingface-hub) (21.3)\n",
      "Requirement already satisfied: pyyaml>=5.1 in /home/ec2-user/anaconda3/envs/python3/lib/python3.10/site-packages (from huggingface-hub) (6.0.1)\n",
      "Requirement already satisfied: requests in /home/ec2-user/anaconda3/envs/python3/lib/python3.10/site-packages (from huggingface-hub) (2.32.3)\n",
      "Requirement already satisfied: tqdm>=4.42.1 in /home/ec2-user/anaconda3/envs/python3/lib/python3.10/site-packages (from huggingface-hub) (4.66.4)\n",
      "Requirement already satisfied: typing-extensions>=3.7.4.3 in /home/ec2-user/anaconda3/envs/python3/lib/python3.10/site-packages (from huggingface-hub) (4.12.2)\n",
      "Requirement already satisfied: pyparsing!=3.0.5,>=2.0.2 in /home/ec2-user/anaconda3/envs/python3/lib/python3.10/site-packages (from packaging>=20.9->huggingface-hub) (3.1.2)\n",
      "Requirement already satisfied: charset-normalizer<4,>=2 in /home/ec2-user/anaconda3/envs/python3/lib/python3.10/site-packages (from requests->huggingface-hub) (3.3.2)\n",
      "Requirement already satisfied: idna<4,>=2.5 in /home/ec2-user/anaconda3/envs/python3/lib/python3.10/site-packages (from requests->huggingface-hub) (3.7)\n",
      "Requirement already satisfied: urllib3<3,>=1.21.1 in /home/ec2-user/anaconda3/envs/python3/lib/python3.10/site-packages (from requests->huggingface-hub) (2.2.2)\n",
      "Requirement already satisfied: certifi>=2017.4.17 in /home/ec2-user/anaconda3/envs/python3/lib/python3.10/site-packages (from requests->huggingface-hub) (2024.7.4)\n",
      "Installing collected packages: huggingface-hub\n",
      "Successfully installed huggingface-hub-0.26.2\n"
     ]
    }
   ],
   "source": [
    "!pip install huggingface-hub -i https://pypi.tuna.tsinghua.edu.cn/simple"
   ]
  },
  {
   "cell_type": "code",
   "execution_count": 4,
   "metadata": {
    "scrolled": true,
    "tags": []
   },
   "outputs": [
    {
     "name": "stdout",
     "output_type": "stream",
     "text": [
      "/home/ec2-user/anaconda3/envs/python3/lib/python3.10/site-packages/huggingface_hub/commands/download.py:139: FutureWarning: Ignoring --local-dir-use-symlinks. Downloading to a local directory does not use symlinks anymore.\n",
      "  warnings.warn(\n",
      "Fetching 10 files:   0%|                                 | 0/10 [00:00<?, ?it/s]Downloading 'model.safetensors' to '/home/ec2-user/SageMaker/tmp/Qwen2-0.5B-Instruct/.cache/huggingface/download/model.safetensors.130282af0dfa9fe5840737cc49a0d339d06075f83c5a315c3372c9a0740d0b96.incomplete'\n",
      "Downloading 'config.json' to '/home/ec2-user/SageMaker/tmp/Qwen2-0.5B-Instruct/.cache/huggingface/download/config.json.463b055262b6c66c4629a74a4b300bfe2ed31d3c.incomplete'\n",
      "Downloading 'tokenizer.json' to '/home/ec2-user/SageMaker/tmp/Qwen2-0.5B-Instruct/.cache/huggingface/download/tokenizer.json.33ea6c72ebb92a237fa2bdf26c5ff16592efcdae.incomplete'\n",
      "\n",
      "config.json: 100%|█████████████████████████████| 659/659 [00:00<00:00, 4.76MB/s]\u001b[A\n",
      "Download complete. Moving file to /home/ec2-user/SageMaker/tmp/Qwen2-0.5B-Instruct/config.json\n",
      "\n",
      "tokenizer.json:   0%|                               | 0.00/7.03M [00:00<?, ?B/s]\u001b[ADownloading 'tokenizer_config.json' to '/home/ec2-user/SageMaker/tmp/Qwen2-0.5B-Instruct/.cache/huggingface/download/tokenizer_config.json.ff55d7b9eb1384e5d4d7e75dc0f564c1a8833d6e.incomplete'\n",
      "\n",
      "\n",
      "model.safetensors:   0%|                             | 0.00/988M [00:00<?, ?B/s]\u001b[A\u001b[ADownloading 'LICENSE' to '/home/ec2-user/SageMaker/tmp/Qwen2-0.5B-Instruct/.cache/huggingface/download/LICENSE.cc375d92d7061b465042e9a1d507cb99598fb97a.incomplete'\n",
      "\n",
      "\n",
      "\n",
      "tokenizer_config.json: 100%|███████████████| 1.29k/1.29k [00:00<00:00, 10.6MB/s]\u001b[A\u001b[A\u001b[A\n",
      "Download complete. Moving file to /home/ec2-user/SageMaker/tmp/Qwen2-0.5B-Instruct/tokenizer_config.json\n",
      "\n",
      "\n",
      "\n",
      "LICENSE: 100%|█████████████████████████████| 11.3k/11.3k [00:00<00:00, 59.8MB/s]\u001b[A\u001b[A\u001b[A\n",
      "Download complete. Moving file to /home/ec2-user/SageMaker/tmp/Qwen2-0.5B-Instruct/LICENSE\n",
      "Downloading 'vocab.json' to '/home/ec2-user/SageMaker/tmp/Qwen2-0.5B-Instruct/.cache/huggingface/download/vocab.json.4783fe10ac3adce15ac8f358ef5462739852c569.incomplete'\n",
      "Downloading '.gitattributes' to '/home/ec2-user/SageMaker/tmp/Qwen2-0.5B-Instruct/.cache/huggingface/download/.gitattributes.a6344aac8c09253b3b630fb776ae94478aa0275b.incomplete'\n",
      "tokenizer.json: 100%|███████████████████████| 7.03M/7.03M [00:00<00:00, 106MB/s]\n",
      "Download complete. Moving file to /home/ec2-user/SageMaker/tmp/Qwen2-0.5B-Instruct/tokenizer.json\n",
      "\n",
      "vocab.json:   0%|                                   | 0.00/2.78M [00:00<?, ?B/s]\u001b[A\n",
      "\n",
      "\n",
      ".gitattributes: 100%|██████████████████████| 1.52k/1.52k [00:00<00:00, 11.3MB/s]\u001b[A\u001b[A\u001b[A\n",
      "Download complete. Moving file to /home/ec2-user/SageMaker/tmp/Qwen2-0.5B-Instruct/.gitattributes\n",
      "Fetching 10 files:  10%|██▌                      | 1/10 [00:00<00:01,  7.56it/s]Downloading 'README.md' to '/home/ec2-user/SageMaker/tmp/Qwen2-0.5B-Instruct/.cache/huggingface/download/README.md.f1181ffe23d27388e6bbaa1d7850c8a7ff87337f.incomplete'\n",
      "\n",
      "\n",
      "\n",
      "README.md: 100%|███████████████████████████| 3.56k/3.56k [00:00<00:00, 25.1MB/s]\u001b[A\u001b[A\u001b[A\n",
      "Download complete. Moving file to /home/ec2-user/SageMaker/tmp/Qwen2-0.5B-Instruct/README.md\n",
      "Downloading 'merges.txt' to '/home/ec2-user/SageMaker/tmp/Qwen2-0.5B-Instruct/.cache/huggingface/download/merges.txt.20024bfe7c83998e9aeaf98a0cd6a2ce6306c2f0.incomplete'\n",
      "vocab.json: 100%|██████████████████████████| 2.78M/2.78M [00:00<00:00, 45.4MB/s]\n",
      "Download complete. Moving file to /home/ec2-user/SageMaker/tmp/Qwen2-0.5B-Instruct/vocab.json\n",
      "\n",
      "merges.txt:   0%|                                   | 0.00/1.67M [00:00<?, ?B/s]\u001b[ADownloading 'generation_config.json' to '/home/ec2-user/SageMaker/tmp/Qwen2-0.5B-Instruct/.cache/huggingface/download/generation_config.json.dfc11073787daf1b0f9c0f1499487ab5f4c93738.incomplete'\n",
      "merges.txt: 100%|██████████████████████████| 1.67M/1.67M [00:00<00:00, 48.5MB/s]\n",
      "Download complete. Moving file to /home/ec2-user/SageMaker/tmp/Qwen2-0.5B-Instruct/merges.txt\n",
      "\n",
      "generation_config.json: 100%|██████████████████| 242/242 [00:00<00:00, 1.44MB/s]\u001b[A\n",
      "Download complete. Moving file to /home/ec2-user/SageMaker/tmp/Qwen2-0.5B-Instruct/generation_config.json\n",
      "Fetching 10 files:  50%|████████████▌            | 5/10 [00:00<00:00, 22.88it/s]\n",
      "\n",
      "model.safetensors:   1%|▏                   | 10.5M/988M [00:00<00:23, 42.4MB/s]\u001b[A\u001b[A\n",
      "\n",
      "model.safetensors:   2%|▍                   | 21.0M/988M [00:00<00:22, 42.4MB/s]\u001b[A\u001b[A\n",
      "\n",
      "model.safetensors:   3%|▋                   | 31.5M/988M [00:00<00:22, 42.5MB/s]\u001b[A\u001b[A\n",
      "\n",
      "model.safetensors:   4%|▊                   | 41.9M/988M [00:00<00:22, 42.5MB/s]\u001b[A\u001b[A\n",
      "\n",
      "model.safetensors:   5%|█                   | 52.4M/988M [00:01<00:22, 42.4MB/s]\u001b[A\u001b[A\n",
      "\n",
      "model.safetensors:   6%|█▎                  | 62.9M/988M [00:01<00:21, 42.3MB/s]\u001b[A\u001b[A\n",
      "\n",
      "model.safetensors:   7%|█▍                  | 73.4M/988M [00:01<00:21, 42.5MB/s]\u001b[A\u001b[A\n",
      "\n",
      "model.safetensors:   8%|█▋                  | 83.9M/988M [00:01<00:21, 42.4MB/s]\u001b[A\u001b[A\n",
      "\n",
      "model.safetensors:  10%|█▉                  | 94.4M/988M [00:02<00:21, 42.2MB/s]\u001b[A\u001b[A\n",
      "\n",
      "model.safetensors:  11%|██▏                  | 105M/988M [00:02<00:20, 42.4MB/s]\u001b[A\u001b[A\n",
      "\n",
      "model.safetensors:  12%|██▍                  | 115M/988M [00:02<00:20, 42.4MB/s]\u001b[A\u001b[A\n",
      "\n",
      "model.safetensors:  13%|██▋                  | 126M/988M [00:02<00:20, 42.4MB/s]\u001b[A\u001b[A\n",
      "\n",
      "model.safetensors:  14%|██▉                  | 136M/988M [00:03<00:20, 42.4MB/s]\u001b[A\u001b[A\n",
      "\n",
      "model.safetensors:  15%|███                  | 147M/988M [00:03<00:19, 42.1MB/s]\u001b[A\u001b[A\n",
      "\n",
      "model.safetensors:  16%|███▎                 | 157M/988M [00:03<00:19, 42.1MB/s]\u001b[A\u001b[A\n",
      "\n",
      "model.safetensors:  17%|███▌                 | 168M/988M [00:03<00:19, 42.2MB/s]\u001b[A\u001b[A\n",
      "\n",
      "model.safetensors:  18%|███▊                 | 178M/988M [00:04<00:19, 42.3MB/s]\u001b[A\u001b[A\n",
      "\n",
      "model.safetensors:  19%|████                 | 189M/988M [00:04<00:18, 42.4MB/s]\u001b[A\u001b[A\n",
      "\n",
      "model.safetensors:  20%|████▏                | 199M/988M [00:04<00:18, 42.3MB/s]\u001b[A\u001b[A\n",
      "\n",
      "model.safetensors:  21%|████▍                | 210M/988M [00:04<00:18, 42.5MB/s]\u001b[A\u001b[A\n",
      "\n",
      "model.safetensors:  22%|████▋                | 220M/988M [00:05<00:18, 42.4MB/s]\u001b[A\u001b[A\n",
      "\n",
      "model.safetensors:  23%|████▉                | 231M/988M [00:05<00:17, 42.6MB/s]\u001b[A\u001b[A\n",
      "\n",
      "model.safetensors:  24%|█████▏               | 241M/988M [00:05<00:17, 42.7MB/s]\u001b[A\u001b[A\n",
      "\n",
      "model.safetensors:  25%|█████▎               | 252M/988M [00:05<00:17, 42.6MB/s]\u001b[A\u001b[A\n",
      "\n",
      "model.safetensors:  27%|█████▌               | 262M/988M [00:06<00:17, 42.2MB/s]\u001b[A\u001b[A\n",
      "\n",
      "model.safetensors:  28%|█████▊               | 273M/988M [00:06<00:16, 42.2MB/s]\u001b[A\u001b[A\n",
      "\n",
      "model.safetensors:  29%|██████               | 283M/988M [00:06<00:16, 42.2MB/s]\u001b[A\u001b[A\n",
      "\n",
      "model.safetensors:  30%|██████▏              | 294M/988M [00:06<00:16, 42.0MB/s]\u001b[A\u001b[A\n",
      "\n",
      "model.safetensors:  31%|██████▍              | 304M/988M [00:07<00:16, 41.8MB/s]\u001b[A\u001b[A\n",
      "\n",
      "model.safetensors:  32%|██████▋              | 315M/988M [00:07<00:16, 41.5MB/s]\u001b[A\u001b[A\n",
      "\n",
      "model.safetensors:  33%|██████▉              | 325M/988M [00:07<00:16, 41.3MB/s]\u001b[A\u001b[A\n",
      "\n",
      "model.safetensors:  34%|███████▏             | 336M/988M [00:07<00:15, 41.5MB/s]\u001b[A\u001b[A\n",
      "\n",
      "model.safetensors:  35%|███████▎             | 346M/988M [00:08<00:15, 41.5MB/s]\u001b[A\u001b[A\n",
      "\n",
      "model.safetensors:  36%|███████▌             | 357M/988M [00:08<00:15, 41.5MB/s]\u001b[A\u001b[A\n",
      "\n",
      "model.safetensors:  37%|███████▊             | 367M/988M [00:08<00:14, 42.0MB/s]\u001b[A\u001b[A\n",
      "\n",
      "model.safetensors:  38%|████████             | 377M/988M [00:08<00:14, 42.0MB/s]\u001b[A\u001b[A\n",
      "\n",
      "model.safetensors:  39%|████████▏            | 388M/988M [00:09<00:14, 42.2MB/s]\u001b[A\u001b[A\n",
      "\n",
      "model.safetensors:  40%|████████▍            | 398M/988M [00:09<00:13, 42.3MB/s]\u001b[A\u001b[A\n",
      "\n",
      "model.safetensors:  41%|████████▋            | 409M/988M [00:09<00:13, 42.4MB/s]\u001b[A\u001b[A\n",
      "\n",
      "model.safetensors:  42%|████████▉            | 419M/988M [00:09<00:13, 42.3MB/s]\u001b[A\u001b[A\n",
      "\n",
      "model.safetensors:  44%|█████████▏           | 430M/988M [00:10<00:14, 39.1MB/s]\u001b[A\u001b[A\n",
      "\n",
      "model.safetensors:  45%|█████████▎           | 440M/988M [00:10<00:13, 39.4MB/s]\u001b[A\u001b[A\n",
      "\n",
      "model.safetensors:  46%|█████████▌           | 451M/988M [00:10<00:13, 38.6MB/s]\u001b[A\u001b[A\n",
      "\n",
      "model.safetensors:  47%|█████████▊           | 461M/988M [00:11<00:13, 39.4MB/s]\u001b[A\u001b[A\n",
      "\n",
      "model.safetensors:  48%|██████████           | 472M/988M [00:11<00:12, 40.1MB/s]\u001b[A\u001b[A\n",
      "\n",
      "model.safetensors:  49%|██████████▎          | 482M/988M [00:11<00:12, 40.1MB/s]\u001b[A\u001b[A\n",
      "\n",
      "model.safetensors:  50%|██████████▍          | 493M/988M [00:11<00:12, 40.8MB/s]\u001b[A\u001b[A\n",
      "\n",
      "model.safetensors:  51%|██████████▋          | 503M/988M [00:12<00:11, 41.2MB/s]\u001b[A\u001b[A\n",
      "\n",
      "model.safetensors:  52%|██████████▉          | 514M/988M [00:12<00:11, 41.6MB/s]\u001b[A\u001b[A\n",
      "\n",
      "model.safetensors:  53%|███████████▏         | 524M/988M [00:12<00:11, 41.8MB/s]\u001b[A\u001b[A\n",
      "\n",
      "model.safetensors:  54%|███████████▎         | 535M/988M [00:12<00:10, 41.8MB/s]\u001b[A\u001b[A\n",
      "\n",
      "model.safetensors:  55%|███████████▌         | 545M/988M [00:13<00:10, 41.9MB/s]\u001b[A\u001b[A\n",
      "\n",
      "model.safetensors:  56%|███████████▊         | 556M/988M [00:13<00:10, 42.1MB/s]\u001b[A\u001b[A\n",
      "\n",
      "model.safetensors:  57%|████████████         | 566M/988M [00:13<00:10, 41.8MB/s]\u001b[A\u001b[A\n",
      "\n",
      "model.safetensors:  58%|████████████▎        | 577M/988M [00:13<00:09, 42.0MB/s]\u001b[A\u001b[A\n",
      "\n",
      "model.safetensors:  59%|████████████▍        | 587M/988M [00:14<00:09, 42.0MB/s]\u001b[A\u001b[A\n",
      "\n",
      "model.safetensors:  60%|████████████▋        | 598M/988M [00:14<00:09, 42.2MB/s]\u001b[A\u001b[A\n",
      "\n",
      "model.safetensors:  62%|████████████▉        | 608M/988M [00:14<00:09, 42.2MB/s]\u001b[A\u001b[A\n",
      "\n",
      "model.safetensors:  63%|█████████████▏       | 619M/988M [00:14<00:08, 42.1MB/s]\u001b[A\u001b[A\n",
      "\n",
      "model.safetensors:  64%|█████████████▎       | 629M/988M [00:15<00:08, 42.1MB/s]\u001b[A\u001b[A\n",
      "\n",
      "model.safetensors:  65%|█████████████▌       | 640M/988M [00:15<00:08, 42.0MB/s]\u001b[A\u001b[A\n",
      "\n",
      "model.safetensors:  66%|█████████████▊       | 650M/988M [00:15<00:08, 41.9MB/s]\u001b[A\u001b[A\n",
      "\n",
      "model.safetensors:  67%|██████████████       | 661M/988M [00:15<00:07, 42.1MB/s]\u001b[A\u001b[A\n",
      "\n",
      "model.safetensors:  68%|██████████████▎      | 671M/988M [00:16<00:07, 42.0MB/s]\u001b[A\u001b[A\n",
      "\n",
      "model.safetensors:  69%|██████████████▍      | 682M/988M [00:16<00:07, 42.3MB/s]\u001b[A\u001b[A\n",
      "\n",
      "model.safetensors:  70%|██████████████▋      | 692M/988M [00:16<00:06, 42.5MB/s]\u001b[A\u001b[A\n",
      "\n",
      "model.safetensors:  71%|██████████████▉      | 703M/988M [00:16<00:06, 42.5MB/s]\u001b[A\u001b[A\n",
      "\n",
      "model.safetensors:  72%|███████████████▏     | 713M/988M [00:17<00:06, 42.5MB/s]\u001b[A\u001b[A\n",
      "\n",
      "model.safetensors:  73%|███████████████▍     | 724M/988M [00:17<00:06, 42.5MB/s]\u001b[A\u001b[A\n",
      "\n",
      "model.safetensors:  74%|███████████████▌     | 734M/988M [00:17<00:05, 42.4MB/s]\u001b[A\u001b[A\n",
      "\n",
      "model.safetensors:  75%|███████████████▊     | 744M/988M [00:17<00:05, 42.6MB/s]\u001b[A\u001b[A\n",
      "\n",
      "model.safetensors:  76%|████████████████     | 755M/988M [00:18<00:05, 42.4MB/s]\u001b[A\u001b[A\n",
      "\n",
      "model.safetensors:  77%|████████████████▎    | 765M/988M [00:18<00:05, 42.4MB/s]\u001b[A\u001b[A\n",
      "\n",
      "model.safetensors:  79%|████████████████▍    | 776M/988M [00:18<00:04, 42.5MB/s]\u001b[A\u001b[A\n",
      "\n",
      "model.safetensors:  80%|████████████████▋    | 786M/988M [00:18<00:04, 42.3MB/s]\u001b[A\u001b[A\n",
      "\n",
      "model.safetensors:  81%|████████████████▉    | 797M/988M [00:19<00:04, 42.3MB/s]\u001b[A\u001b[A\n",
      "\n",
      "model.safetensors:  82%|█████████████████▏   | 807M/988M [00:19<00:04, 42.4MB/s]\u001b[A\u001b[A\n",
      "\n",
      "model.safetensors:  83%|█████████████████▍   | 818M/988M [00:19<00:04, 42.4MB/s]\u001b[A\u001b[A\n",
      "\n",
      "Fetching 10 files:  50%|████████████▌            | 5/10 [00:19<00:00, 22.88it/s]\u001b[A\u001b[A\n",
      "\n",
      "model.safetensors:  85%|█████████████████▊   | 839M/988M [00:19<00:03, 42.5MB/s]\u001b[A\u001b[A\n",
      "\n",
      "model.safetensors:  86%|██████████████████   | 849M/988M [00:20<00:03, 42.5MB/s]\u001b[A\u001b[A\n",
      "\n",
      "model.safetensors:  87%|██████████████████▎  | 860M/988M [00:20<00:03, 42.6MB/s]\u001b[A\u001b[A\n",
      "\n",
      "model.safetensors:  88%|██████████████████▍  | 870M/988M [00:20<00:02, 42.6MB/s]\u001b[A\u001b[A\n",
      "\n",
      "model.safetensors:  89%|██████████████████▋  | 881M/988M [00:21<00:02, 40.1MB/s]\u001b[A\u001b[A\n",
      "\n",
      "model.safetensors:  90%|██████████████████▉  | 891M/988M [00:21<00:02, 41.1MB/s]\u001b[A\u001b[A\n",
      "\n",
      "model.safetensors:  91%|███████████████████▏ | 902M/988M [00:21<00:02, 41.6MB/s]\u001b[A\u001b[A\n",
      "\n",
      "model.safetensors:  92%|███████████████████▍ | 912M/988M [00:21<00:01, 41.9MB/s]\u001b[A\u001b[A\n",
      "\n",
      "model.safetensors:  93%|███████████████████▌ | 923M/988M [00:22<00:01, 42.2MB/s]\u001b[A\u001b[A\n",
      "\n",
      "model.safetensors:  94%|███████████████████▊ | 933M/988M [00:22<00:01, 42.2MB/s]\u001b[A\u001b[A\n",
      "\n",
      "model.safetensors:  96%|████████████████████ | 944M/988M [00:22<00:01, 42.4MB/s]\u001b[A\u001b[A\n",
      "\n",
      "model.safetensors:  97%|████████████████████▎| 954M/988M [00:22<00:00, 42.5MB/s]\u001b[A\u001b[A\n",
      "\n",
      "model.safetensors:  98%|████████████████████▌| 965M/988M [00:23<00:00, 41.5MB/s]\u001b[A\u001b[A\n",
      "\n",
      "model.safetensors:  99%|████████████████████▋| 975M/988M [00:23<00:00, 41.7MB/s]\u001b[A\u001b[A\n",
      "\n",
      "model.safetensors: 100%|█████████████████████| 988M/988M [00:23<00:00, 41.9MB/s]\u001b[A\u001b[A\n",
      "Download complete. Moving file to /home/ec2-user/SageMaker/tmp/Qwen2-0.5B-Instruct/model.safetensors\n",
      "Fetching 10 files: 100%|████████████████████████| 10/10 [00:23<00:00,  2.36s/it]\n",
      "/home/ec2-user/SageMaker/tmp/Qwen2-0.5B-Instruct\n"
     ]
    }
   ],
   "source": [
    "!huggingface-cli download Qwen/Qwen2-0.5B-Instruct --local-dir $local_storage_dir/Qwen2-0.5B-Instruct --local-dir-use-symlinks False --cache-dir $local_storage_dir/tmp-cache/"
   ]
  },
  {
   "cell_type": "code",
   "execution_count": null,
   "metadata": {},
   "outputs": [],
   "source": []
  },
  {
   "cell_type": "markdown",
   "metadata": {},
   "source": [
    "## (Option2) Download model from ModelScope"
   ]
  },
  {
   "cell_type": "code",
   "execution_count": null,
   "metadata": {
    "tags": []
   },
   "outputs": [],
   "source": [
    "!pip install modelscope -i https://pypi.tuna.tsinghua.edu.cn/simple"
   ]
  },
  {
   "cell_type": "code",
   "execution_count": null,
   "metadata": {
    "tags": []
   },
   "outputs": [],
   "source": [
    "!modelscope download --model qwen/Qwen2-0.5B-Instruct --local_dir $local_storage_dir/Qwen2-0.5B-Instruct\n",
    "# !modelscope download --model qwen/qwen2-1.5b-instruct --local_dir qwen2-1.5b-instruct"
   ]
  },
  {
   "cell_type": "code",
   "execution_count": null,
   "metadata": {},
   "outputs": [],
   "source": []
  },
  {
   "cell_type": "markdown",
   "metadata": {
    "tags": []
   },
   "source": [
    "## Upload model to s3"
   ]
  },
  {
   "cell_type": "code",
   "execution_count": 5,
   "metadata": {
    "tags": []
   },
   "outputs": [
    {
     "name": "stderr",
     "output_type": "stream",
     "text": [
      "/home/ec2-user/anaconda3/envs/python3/lib/python3.10/site-packages/sagemaker/base_serializers.py:28: UserWarning: A NumPy version >=1.23.5 and <2.3.0 is required for this version of SciPy (detected version 1.22.4)\n",
      "  import scipy.sparse\n"
     ]
    },
    {
     "name": "stdout",
     "output_type": "stream",
     "text": [
      "sagemaker.config INFO - Not applying SDK defaults from location: /etc/xdg/sagemaker/config.yaml\n",
      "sagemaker.config INFO - Not applying SDK defaults from location: /home/ec2-user/.config/sagemaker/config.yaml\n"
     ]
    }
   ],
   "source": [
    "import sagemaker\n",
    "sess = sagemaker.Session()\n",
    "sagemaker_default_bucket = sess.default_bucket()"
   ]
  },
  {
   "cell_type": "code",
   "execution_count": 6,
   "metadata": {
    "tags": []
   },
   "outputs": [],
   "source": [
    "!chmod +x s5cmd"
   ]
  },
  {
   "cell_type": "code",
   "execution_count": 7,
   "metadata": {
    "scrolled": true,
    "tags": []
   },
   "outputs": [
    {
     "name": "stdout",
     "output_type": "stream",
     "text": [
      "cp /home/ec2-user/SageMaker/tmp/Qwen2-0.5B-Instruct/.cache/huggingface/download/config.json.lock s3://sagemaker-us-east-1-633205212955/Qwen2-0.5B-Instruct/.cache/huggingface/download/config.json.lock\n",
      "cp /home/ec2-user/SageMaker/tmp/Qwen2-0.5B-Instruct/.cache/huggingface/download/merges.txt.lock s3://sagemaker-us-east-1-633205212955/Qwen2-0.5B-Instruct/.cache/huggingface/download/merges.txt.lock\n",
      "cp /home/ec2-user/SageMaker/tmp/Qwen2-0.5B-Instruct/.cache/huggingface/download/generation_config.json.lock s3://sagemaker-us-east-1-633205212955/Qwen2-0.5B-Instruct/.cache/huggingface/download/generation_config.json.lock\n",
      "cp /home/ec2-user/SageMaker/tmp/Qwen2-0.5B-Instruct/.cache/huggingface/download/.gitattributes.lock s3://sagemaker-us-east-1-633205212955/Qwen2-0.5B-Instruct/.cache/huggingface/download/.gitattributes.lock\n",
      "cp /home/ec2-user/SageMaker/tmp/Qwen2-0.5B-Instruct/.cache/huggingface/download/README.md.metadata s3://sagemaker-us-east-1-633205212955/Qwen2-0.5B-Instruct/.cache/huggingface/download/README.md.metadata\n",
      "cp /home/ec2-user/SageMaker/tmp/Qwen2-0.5B-Instruct/.cache/huggingface/download/tokenizer.json.metadata s3://sagemaker-us-east-1-633205212955/Qwen2-0.5B-Instruct/.cache/huggingface/download/tokenizer.json.metadata\n",
      "cp /home/ec2-user/SageMaker/tmp/Qwen2-0.5B-Instruct/.cache/huggingface/.gitignore s3://sagemaker-us-east-1-633205212955/Qwen2-0.5B-Instruct/.cache/huggingface/.gitignore\n",
      "cp /home/ec2-user/SageMaker/tmp/Qwen2-0.5B-Instruct/.cache/huggingface/download/generation_config.json.metadata s3://sagemaker-us-east-1-633205212955/Qwen2-0.5B-Instruct/.cache/huggingface/download/generation_config.json.metadata\n",
      "cp /home/ec2-user/SageMaker/tmp/Qwen2-0.5B-Instruct/.cache/huggingface/download/config.json.metadata s3://sagemaker-us-east-1-633205212955/Qwen2-0.5B-Instruct/.cache/huggingface/download/config.json.metadata\n",
      "cp /home/ec2-user/SageMaker/tmp/Qwen2-0.5B-Instruct/.cache/huggingface/download/model.safetensors.metadata s3://sagemaker-us-east-1-633205212955/Qwen2-0.5B-Instruct/.cache/huggingface/download/model.safetensors.metadata\n",
      "cp /home/ec2-user/SageMaker/tmp/Qwen2-0.5B-Instruct/.cache/huggingface/download/LICENSE.metadata s3://sagemaker-us-east-1-633205212955/Qwen2-0.5B-Instruct/.cache/huggingface/download/LICENSE.metadata\n",
      "cp /home/ec2-user/SageMaker/tmp/Qwen2-0.5B-Instruct/.cache/huggingface/download/tokenizer_config.json.metadata s3://sagemaker-us-east-1-633205212955/Qwen2-0.5B-Instruct/.cache/huggingface/download/tokenizer_config.json.metadata\n",
      "cp /home/ec2-user/SageMaker/tmp/Qwen2-0.5B-Instruct/.cache/huggingface/download/vocab.json.metadata s3://sagemaker-us-east-1-633205212955/Qwen2-0.5B-Instruct/.cache/huggingface/download/vocab.json.metadata\n",
      "cp /home/ec2-user/SageMaker/tmp/Qwen2-0.5B-Instruct/.cache/huggingface/download/model.safetensors.lock s3://sagemaker-us-east-1-633205212955/Qwen2-0.5B-Instruct/.cache/huggingface/download/model.safetensors.lock\n",
      "cp /home/ec2-user/SageMaker/tmp/Qwen2-0.5B-Instruct/.cache/huggingface/download/tokenizer_config.json.lock s3://sagemaker-us-east-1-633205212955/Qwen2-0.5B-Instruct/.cache/huggingface/download/tokenizer_config.json.lock\n",
      "cp /home/ec2-user/SageMaker/tmp/Qwen2-0.5B-Instruct/.cache/huggingface/download/tokenizer.json.lock s3://sagemaker-us-east-1-633205212955/Qwen2-0.5B-Instruct/.cache/huggingface/download/tokenizer.json.lock\n",
      "cp /home/ec2-user/SageMaker/tmp/Qwen2-0.5B-Instruct/.cache/huggingface/download/README.md.lock s3://sagemaker-us-east-1-633205212955/Qwen2-0.5B-Instruct/.cache/huggingface/download/README.md.lock\n",
      "cp /home/ec2-user/SageMaker/tmp/Qwen2-0.5B-Instruct/README.md s3://sagemaker-us-east-1-633205212955/Qwen2-0.5B-Instruct/README.md\n",
      "cp /home/ec2-user/SageMaker/tmp/Qwen2-0.5B-Instruct/.cache/huggingface/download/.gitattributes.metadata s3://sagemaker-us-east-1-633205212955/Qwen2-0.5B-Instruct/.cache/huggingface/download/.gitattributes.metadata\n",
      "cp /home/ec2-user/SageMaker/tmp/Qwen2-0.5B-Instruct/config.json s3://sagemaker-us-east-1-633205212955/Qwen2-0.5B-Instruct/config.json\n",
      "cp /home/ec2-user/SageMaker/tmp/Qwen2-0.5B-Instruct/.cache/huggingface/download/vocab.json.lock s3://sagemaker-us-east-1-633205212955/Qwen2-0.5B-Instruct/.cache/huggingface/download/vocab.json.lock\n",
      "cp /home/ec2-user/SageMaker/tmp/Qwen2-0.5B-Instruct/generation_config.json s3://sagemaker-us-east-1-633205212955/Qwen2-0.5B-Instruct/generation_config.json\n",
      "cp /home/ec2-user/SageMaker/tmp/Qwen2-0.5B-Instruct/.cache/huggingface/download/LICENSE.lock s3://sagemaker-us-east-1-633205212955/Qwen2-0.5B-Instruct/.cache/huggingface/download/LICENSE.lock\n",
      "cp /home/ec2-user/SageMaker/tmp/Qwen2-0.5B-Instruct/tokenizer_config.json s3://sagemaker-us-east-1-633205212955/Qwen2-0.5B-Instruct/tokenizer_config.json\n",
      "cp /home/ec2-user/SageMaker/tmp/Qwen2-0.5B-Instruct/.cache/huggingface/download/merges.txt.metadata s3://sagemaker-us-east-1-633205212955/Qwen2-0.5B-Instruct/.cache/huggingface/download/merges.txt.metadata\n",
      "cp /home/ec2-user/SageMaker/tmp/Qwen2-0.5B-Instruct/LICENSE s3://sagemaker-us-east-1-633205212955/Qwen2-0.5B-Instruct/LICENSE\n",
      "cp /home/ec2-user/SageMaker/tmp/Qwen2-0.5B-Instruct/.gitattributes s3://sagemaker-us-east-1-633205212955/Qwen2-0.5B-Instruct/.gitattributes\n",
      "cp /home/ec2-user/SageMaker/tmp/Qwen2-0.5B-Instruct/tokenizer.json s3://sagemaker-us-east-1-633205212955/Qwen2-0.5B-Instruct/tokenizer.json\n",
      "cp /home/ec2-user/SageMaker/tmp/Qwen2-0.5B-Instruct/merges.txt s3://sagemaker-us-east-1-633205212955/Qwen2-0.5B-Instruct/merges.txt\n",
      "cp /home/ec2-user/SageMaker/tmp/Qwen2-0.5B-Instruct/vocab.json s3://sagemaker-us-east-1-633205212955/Qwen2-0.5B-Instruct/vocab.json\n",
      "cp /home/ec2-user/SageMaker/tmp/Qwen2-0.5B-Instruct/model.safetensors s3://sagemaker-us-east-1-633205212955/Qwen2-0.5B-Instruct/model.safetensors\n"
     ]
    }
   ],
   "source": [
    "# upload model\n",
    "!./s5cmd cp $local_storage_dir/Qwen2-0.5B-Instruct/ s3://$sagemaker_default_bucket/Qwen2-0.5B-Instruct/\n",
    "# !./s5cmd cp $local_storage_dir/Qwen2-1.5B-Instruct/ s3://$sagemaker_default_bucket/Qwen2-1.5B-Instruct/"
   ]
  },
  {
   "cell_type": "code",
   "execution_count": 8,
   "metadata": {
    "tags": []
   },
   "outputs": [
    {
     "name": "stdout",
     "output_type": "stream",
     "text": [
      "upload: ./alpaca_zh_demo.json to s3://sagemaker-us-east-1-633205212955/qwen2-train-dataset/alpaca_zh_demo.json\n",
      "upload: ./alpaca_zh_demo.json to s3://sagemaker-us-east-1-633205212955/qwen2-val-dataset/alpaca_zh_demo.json\n"
     ]
    }
   ],
   "source": [
    "# upload sample data\n",
    "!aws s3 cp alpaca_zh_demo.json s3://$sagemaker_default_bucket/qwen2-train-dataset/\n",
    "!aws s3 cp alpaca_zh_demo.json s3://$sagemaker_default_bucket/qwen2-val-dataset/"
   ]
  },
  {
   "cell_type": "code",
   "execution_count": 9,
   "metadata": {
    "tags": []
   },
   "outputs": [
    {
     "name": "stdout",
     "output_type": "stream",
     "text": [
      "s3://sagemaker-us-east-1-633205212955/Qwen2-0.5B-Instruct/\n"
     ]
    }
   ],
   "source": [
    "!echo s3://$sagemaker_default_bucket/Qwen2-0.5B-Instruct/"
   ]
  },
  {
   "cell_type": "code",
   "execution_count": 10,
   "metadata": {
    "tags": []
   },
   "outputs": [
    {
     "name": "stdout",
     "output_type": "stream",
     "text": [
      "                           PRE .cache/\n",
      "                           PRE .huggingface/\n",
      "2024-11-06 01:04:36       1519 .gitattributes\n",
      "2024-11-06 01:04:36      11344 LICENSE\n",
      "2024-11-06 01:04:36       3565 README.md\n",
      "2024-11-06 01:04:36        659 config.json\n",
      "2024-11-06 01:04:36        242 generation_config.json\n",
      "2024-11-06 01:04:36    1671839 merges.txt\n",
      "2024-11-06 01:04:36  988097824 model.safetensors\n",
      "2024-11-06 01:04:36    7028015 tokenizer.json\n",
      "2024-11-06 01:04:36       1287 tokenizer_config.json\n",
      "2024-11-06 01:04:36    2776833 vocab.json\n"
     ]
    }
   ],
   "source": [
    "!aws s3 ls s3://$sagemaker_default_bucket/Qwen2-0.5B-Instruct/"
   ]
  },
  {
   "cell_type": "code",
   "execution_count": null,
   "metadata": {},
   "outputs": [],
   "source": []
  },
  {
   "cell_type": "code",
   "execution_count": null,
   "metadata": {},
   "outputs": [],
   "source": []
  }
 ],
 "metadata": {
  "kernelspec": {
   "display_name": "conda_python3",
   "language": "python",
   "name": "conda_python3"
  },
  "language_info": {
   "codemirror_mode": {
    "name": "ipython",
    "version": 3
   },
   "file_extension": ".py",
   "mimetype": "text/x-python",
   "name": "python",
   "nbconvert_exporter": "python",
   "pygments_lexer": "ipython3",
   "version": "3.10.14"
  }
 },
 "nbformat": 4,
 "nbformat_minor": 4
}
